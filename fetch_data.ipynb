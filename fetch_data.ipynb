{
 "cells": [
  {
   "cell_type": "code",
   "execution_count": 27,
   "metadata": {
    "collapsed": true
   },
   "outputs": [],
   "source": [
    "### https://github.com/jnaulty/scrape_book/blob/master/scrape_book.ipynb\n",
    "import requests\n",
    "from bs4 import BeautifulSoup\n",
    "import os"
   ]
  },
  {
   "cell_type": "code",
   "execution_count": 28,
   "metadata": {
    "collapsed": true
   },
   "outputs": [],
   "source": [
    "dir_name = \"data\"\n",
    "# url = 'https://home.ubalt.edu/ntygfit/ai_01_pursuing_fame/ai_01_tell/iliad01.htm'"
   ]
  },
  {
   "cell_type": "code",
   "execution_count": 29,
   "metadata": {
    "collapsed": true
   },
   "outputs": [],
   "source": [
    "def make_dir(directory):\n",
    "    \"\"\"\n",
    "    return: None\n",
    "    Makes directory if does not already exist\n",
    "    \"\"\"\n",
    "    if not os.path.exists(directory):\n",
    "        os.makedirs(directory)"
   ]
  },
  {
   "cell_type": "code",
   "execution_count": 30,
   "metadata": {},
   "outputs": [],
   "source": [
    "def download_url(url, endpoint):\n",
    "    \"\"\"\n",
    "    return: None\n",
    "    downloads file, requires url in global or class scope.\n",
    "    \"\"\"\n",
    "    file_path = dir_name + \"/\" + endpoint\n",
    "    \n",
    "    r = requests.get(url)\n",
    "    content_file = r.content\n",
    "    \n",
    "    s = BeautifulSoup(content_file, \"lxml\")\n",
    "    \n",
    "    text = s.tr.td.get_text()\n",
    "    \n",
    "    text = \"\\n\".join(text.split(\"\\n\")[13:])\n",
    "    \n",
    "    text = text.strip(\"\\n\")\n",
    "    \n",
    "    with open(file_path, 'wb') as f:\n",
    "        print(\"\"\"Downloading From: {url} Writing to: {file_path}\"\"\".format(\n",
    "                                                url=url, \n",
    "                                                file_path=file_path\n",
    "                                                                    ))\n",
    "        f.write(text.encode())"
   ]
  },
  {
   "cell_type": "code",
   "execution_count": 31,
   "metadata": {},
   "outputs": [
    {
     "name": "stdout",
     "output_type": "stream",
     "text": [
      "-- Begin downloading ---\n",
      "Downloading From: https://home.ubalt.edu/ntygfit/ai_01_pursuing_fame/ai_01_tell/iliad01.htm Writing to: data/1\n",
      "https://home.ubalt.edu/ntygfit/ai_01_pursuing_fame/ai_01_tell/iliad01.htm\n",
      "Downloading From: https://home.ubalt.edu/ntygfit/ai_01_pursuing_fame/ai_01_tell/iliad02.htm Writing to: data/2\n",
      "https://home.ubalt.edu/ntygfit/ai_01_pursuing_fame/ai_01_tell/iliad02.htm\n",
      "Downloading From: https://home.ubalt.edu/ntygfit/ai_01_pursuing_fame/ai_01_tell/iliad03.htm Writing to: data/3\n",
      "https://home.ubalt.edu/ntygfit/ai_01_pursuing_fame/ai_01_tell/iliad03.htm\n",
      "Downloading From: https://home.ubalt.edu/ntygfit/ai_01_pursuing_fame/ai_01_tell/iliad04.htm Writing to: data/4\n",
      "https://home.ubalt.edu/ntygfit/ai_01_pursuing_fame/ai_01_tell/iliad04.htm\n",
      "Downloading From: https://home.ubalt.edu/ntygfit/ai_01_pursuing_fame/ai_01_tell/iliad05.htm Writing to: data/5\n",
      "https://home.ubalt.edu/ntygfit/ai_01_pursuing_fame/ai_01_tell/iliad05.htm\n",
      "Downloading From: https://home.ubalt.edu/ntygfit/ai_01_pursuing_fame/ai_01_tell/iliad06.htm Writing to: data/6\n",
      "https://home.ubalt.edu/ntygfit/ai_01_pursuing_fame/ai_01_tell/iliad06.htm\n",
      "Downloading From: https://home.ubalt.edu/ntygfit/ai_01_pursuing_fame/ai_01_tell/iliad07.htm Writing to: data/7\n",
      "https://home.ubalt.edu/ntygfit/ai_01_pursuing_fame/ai_01_tell/iliad07.htm\n",
      "Downloading From: https://home.ubalt.edu/ntygfit/ai_01_pursuing_fame/ai_01_tell/iliad08.htm Writing to: data/8\n",
      "https://home.ubalt.edu/ntygfit/ai_01_pursuing_fame/ai_01_tell/iliad08.htm\n",
      "Downloading From: https://home.ubalt.edu/ntygfit/ai_01_pursuing_fame/ai_01_tell/iliad09.htm Writing to: data/9\n",
      "https://home.ubalt.edu/ntygfit/ai_01_pursuing_fame/ai_01_tell/iliad09.htm\n",
      "Downloading From: https://home.ubalt.edu/ntygfit/ai_01_pursuing_fame/ai_01_tell/iliad10.htm Writing to: data/10\n",
      "https://home.ubalt.edu/ntygfit/ai_01_pursuing_fame/ai_01_tell/iliad10.htm\n",
      "Downloading From: https://home.ubalt.edu/ntygfit/ai_01_pursuing_fame/ai_01_tell/iliad11.htm Writing to: data/11\n",
      "https://home.ubalt.edu/ntygfit/ai_01_pursuing_fame/ai_01_tell/iliad11.htm\n",
      "Downloading From: https://home.ubalt.edu/ntygfit/ai_01_pursuing_fame/ai_01_tell/iliad12.htm Writing to: data/12\n",
      "https://home.ubalt.edu/ntygfit/ai_01_pursuing_fame/ai_01_tell/iliad12.htm\n",
      "Downloading From: https://home.ubalt.edu/ntygfit/ai_01_pursuing_fame/ai_01_tell/iliad13.htm Writing to: data/13\n",
      "https://home.ubalt.edu/ntygfit/ai_01_pursuing_fame/ai_01_tell/iliad13.htm\n",
      "Downloading From: https://home.ubalt.edu/ntygfit/ai_01_pursuing_fame/ai_01_tell/iliad14.htm Writing to: data/14\n",
      "https://home.ubalt.edu/ntygfit/ai_01_pursuing_fame/ai_01_tell/iliad14.htm\n",
      "Downloading From: https://home.ubalt.edu/ntygfit/ai_01_pursuing_fame/ai_01_tell/iliad15.htm Writing to: data/15\n",
      "https://home.ubalt.edu/ntygfit/ai_01_pursuing_fame/ai_01_tell/iliad15.htm\n",
      "Downloading From: https://home.ubalt.edu/ntygfit/ai_01_pursuing_fame/ai_01_tell/iliad16.htm Writing to: data/16\n",
      "https://home.ubalt.edu/ntygfit/ai_01_pursuing_fame/ai_01_tell/iliad16.htm\n",
      "Downloading From: https://home.ubalt.edu/ntygfit/ai_01_pursuing_fame/ai_01_tell/iliad17.htm Writing to: data/17\n",
      "https://home.ubalt.edu/ntygfit/ai_01_pursuing_fame/ai_01_tell/iliad17.htm\n",
      "Downloading From: https://home.ubalt.edu/ntygfit/ai_01_pursuing_fame/ai_01_tell/iliad18.htm Writing to: data/18\n",
      "https://home.ubalt.edu/ntygfit/ai_01_pursuing_fame/ai_01_tell/iliad18.htm\n",
      "Downloading From: https://home.ubalt.edu/ntygfit/ai_01_pursuing_fame/ai_01_tell/iliad19.htm Writing to: data/19\n",
      "https://home.ubalt.edu/ntygfit/ai_01_pursuing_fame/ai_01_tell/iliad19.htm\n",
      "Downloading From: https://home.ubalt.edu/ntygfit/ai_01_pursuing_fame/ai_01_tell/iliad20.htm Writing to: data/20\n",
      "https://home.ubalt.edu/ntygfit/ai_01_pursuing_fame/ai_01_tell/iliad20.htm\n",
      "Downloading From: https://home.ubalt.edu/ntygfit/ai_01_pursuing_fame/ai_01_tell/iliad21.htm Writing to: data/21\n",
      "https://home.ubalt.edu/ntygfit/ai_01_pursuing_fame/ai_01_tell/iliad21.htm\n",
      "Downloading From: https://home.ubalt.edu/ntygfit/ai_01_pursuing_fame/ai_01_tell/iliad22.htm Writing to: data/22\n",
      "https://home.ubalt.edu/ntygfit/ai_01_pursuing_fame/ai_01_tell/iliad22.htm\n",
      "Downloading From: https://home.ubalt.edu/ntygfit/ai_01_pursuing_fame/ai_01_tell/iliad23.htm Writing to: data/23\n",
      "https://home.ubalt.edu/ntygfit/ai_01_pursuing_fame/ai_01_tell/iliad23.htm\n",
      "Downloading From: https://home.ubalt.edu/ntygfit/ai_01_pursuing_fame/ai_01_tell/iliad24.htm Writing to: data/24\n",
      "https://home.ubalt.edu/ntygfit/ai_01_pursuing_fame/ai_01_tell/iliad24.htm\n",
      "--- Finished Downloading ---\n"
     ]
    }
   ],
   "source": [
    "#print(\"\"\"Status: {status}\\nEncoding: {encoding}\"\"\".format(status=status, encoding=encoding))\n",
    "print(\"-- Begin downloading ---\")\n",
    "\n",
    "make_dir(dir_name)\n",
    "for i in range(1, 25):\n",
    "    url = \"https://home.ubalt.edu/ntygfit/ai_01_pursuing_fame/ai_01_tell/iliad\" + str(i).zfill(2) + \".htm\"\n",
    "    download_url(url, str(i))\n",
    "    print(url)\n",
    "    #print(\"Finished Download\")\n",
    "    #print \"miss: {tag}\".format(tag=endpoint)\n",
    "    \n",
    "print(\"--- Finished Downloading ---\")"
   ]
  }
 ],
 "metadata": {
  "kernelspec": {
   "display_name": "Python 3",
   "language": "python",
   "name": "python3"
  },
  "language_info": {
   "codemirror_mode": {
    "name": "ipython",
    "version": 3
   },
   "file_extension": ".py",
   "mimetype": "text/x-python",
   "name": "python",
   "nbconvert_exporter": "python",
   "pygments_lexer": "ipython3",
   "version": "3.6.1"
  }
 },
 "nbformat": 4,
 "nbformat_minor": 1
}
